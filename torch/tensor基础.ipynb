{
 "cells": [
  {
   "cell_type": "code",
   "execution_count": 1,
   "metadata": {},
   "outputs": [],
   "source": [
    "import torch"
   ]
  },
  {
   "cell_type": "code",
   "execution_count": 2,
   "metadata": {},
   "outputs": [],
   "source": [
    "x = torch.linspace(1, 27, steps=27).view(9, 3)\n",
    "bbb = torch.where(x > 5, torch.full_like(x, 5), x)"
   ]
  },
  {
   "cell_type": "code",
   "execution_count": 6,
   "metadata": {},
   "outputs": [],
   "source": [
    "bb=torch.where(x>5,torch.Tensor([5]),x)"
   ]
  },
  {
   "cell_type": "code",
   "execution_count": 8,
   "metadata": {
    "scrolled": true
   },
   "outputs": [
    {
     "name": "stdout",
     "output_type": "stream",
     "text": [
      "tensor([[ 1.,  2.,  3.],\n",
      "        [ 4.,  5.,  6.],\n",
      "        [ 7.,  8.,  9.],\n",
      "        [10., 11., 12.],\n",
      "        [13., 14., 15.],\n",
      "        [16., 17., 18.],\n",
      "        [19., 20., 21.],\n",
      "        [22., 23., 24.],\n",
      "        [25., 26., 27.]])\n",
      "tensor([[1., 2., 3.],\n",
      "        [4., 5., 5.],\n",
      "        [5., 5., 5.],\n",
      "        [5., 5., 5.],\n",
      "        [5., 5., 5.],\n",
      "        [5., 5., 5.],\n",
      "        [5., 5., 5.],\n",
      "        [5., 5., 5.],\n",
      "        [5., 5., 5.]])\n",
      "\n",
      "\n",
      "tensor([[1., 2., 3.],\n",
      "        [4., 5., 5.],\n",
      "        [5., 5., 5.],\n",
      "        [5., 5., 5.],\n",
      "        [5., 5., 5.],\n",
      "        [5., 5., 5.],\n",
      "        [5., 5., 5.],\n",
      "        [5., 5., 5.],\n",
      "        [5., 5., 5.]])\n"
     ]
    }
   ],
   "source": [
    "print(x)\n",
    "#print('\\t')\n",
    "print(bbb)\n",
    "print('\\n')\n",
    "print(bb)"
   ]
  },
  {
   "cell_type": "code",
   "execution_count": null,
   "metadata": {},
   "outputs": [
    {
     "name": "stdout",
     "output_type": "stream",
     "text": [
      "1\n",
      "40\n",
      "40\n",
      "1\n",
      "4\n",
      "10 40 70 80\n",
      "70\n",
      "1\n",
      "3\n",
      "20 90 50\n",
      "20\n",
      "1\n"
     ]
    }
   ],
   "source": [
    "N = int(input())\n",
    "while N != 0:\n",
    "    grades = [int(grade) for grade in input().split()]\n",
    "    target = int(input())\n",
    "    print(grades.count(target))\n",
    "    N = int(input())"
   ]
  }
 ],
 "metadata": {
  "kernelspec": {
   "display_name": "Python 3",
   "language": "python",
   "name": "python3"
  },
  "language_info": {
   "codemirror_mode": {
    "name": "ipython",
    "version": 3
   },
   "file_extension": ".py",
   "mimetype": "text/x-python",
   "name": "python",
   "nbconvert_exporter": "python",
   "pygments_lexer": "ipython3",
   "version": "3.6.9"
  }
 },
 "nbformat": 4,
 "nbformat_minor": 4
}
