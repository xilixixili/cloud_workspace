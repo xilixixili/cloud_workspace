{
 "cells": [
  {
   "cell_type": "code",
   "execution_count": 1,
   "metadata": {},
   "outputs": [
    {
     "name": "stdout",
     "output_type": "stream",
     "text": [
      "sys.version_info(major=3, minor=6, micro=9, releaselevel='final', serial=0)\n",
      "matplotlib 3.2.1\n",
      "numpy 1.18.2\n",
      "sklearn 0.22.2.post1\n",
      "torch 1.4.0+cpu\n",
      "re 2.2.1\n"
     ]
    }
   ],
   "source": [
    "import numpy as np\n",
    "import torch\n",
    "import torch.nn as nn\n",
    "import matplotlib as mpl\n",
    "import matplotlib.pyplot as plt\n",
    "%matplotlib inline\n",
    "import sklearn \n",
    "import pandas as pd\n",
    "import os\n",
    "import sys\n",
    "import time\n",
    "from torch.autograd import Variable\n",
    "import re\n",
    "print(sys.version_info)\n",
    "for module in mpl,np,sklearn,torch,re:\n",
    "    print(module.__name__,module.__version__)"
   ]
  },
  {
   "cell_type": "code",
   "execution_count": 2,
   "metadata": {},
   "outputs": [],
   "source": [
    "class Net1(nn.Module):\n",
    "    def __init__(self):\n",
    "        super(Net1 , self).__init__()\n",
    "        self.conv=nn.Conv2d(1,10,kernel_size=3, padding=0,bias=False)\n",
    "        #self.bn=nn.BatchNorm2d(10)\n",
    "        self.layer1=torch.nn.Linear(6, 10)\n",
    "        \n",
    "        self.layerF=nn.ReLU()\n",
    "        self.layer2=torch.nn.Linear(10, 1,bias=False)\n",
    "        \n",
    "        self._initialize_weights()\n",
    "    def forward(self,x):\n",
    "        x=self.conv(x)\n",
    "        x=self.bn(x)\n",
    "        x=self.layer1(x)\n",
    "        x=self.layerF(x)\n",
    "        x=self.layer2(x)\n",
    "        return x\n",
    "    def _initialize_weights(self):\n",
    "        for m in self.modules():  # 提取网络的层次结构\n",
    "            if isinstance(m, nn.Conv2d):\n",
    "                n = m.kernel_size[0] * m.kernel_size[1] * m.out_channels\n",
    "                print('kernel_size[0]',m.kernel_size[0],'kernel_size[1]:', m.kernel_size[1],'out_channels:',m.out_channels)\n",
    "                m.weight=nn.Parameter(torch.Tensor(np.ones([m.out_channels,m.in_channels,m.kernel_size[0],m.kernel_size[1]])))\n",
    "            elif isinstance(m, nn.Linear):\n",
    "                m.weight=nn.Parameter(torch.Tensor(np.ones([m.out_features,m.in_features])))\n",
    "     "
   ]
  },
  {
   "cell_type": "code",
   "execution_count": 3,
   "metadata": {},
   "outputs": [
    {
     "name": "stdout",
     "output_type": "stream",
     "text": [
      "kernel_size[0] 3 kernel_size[1]: 3 out_channels: 10\n"
     ]
    }
   ],
   "source": [
    "model=Net1()"
   ]
  },
  {
   "cell_type": "code",
   "execution_count": 4,
   "metadata": {},
   "outputs": [
    {
     "name": "stdout",
     "output_type": "stream",
     "text": [
      "Net1(\n",
      "  (conv): Conv2d(1, 10, kernel_size=(3, 3), stride=(1, 1), bias=False)\n",
      "  (layer1): Linear(in_features=6, out_features=10, bias=True)\n",
      "  (layerF): ReLU()\n",
      "  (layer2): Linear(in_features=10, out_features=1, bias=False)\n",
      ")\n"
     ]
    }
   ],
   "source": [
    "print(model)"
   ]
  },
  {
   "cell_type": "code",
   "execution_count": 5,
   "metadata": {},
   "outputs": [
    {
     "name": "stdout",
     "output_type": "stream",
     "text": [
      "=============\n",
      "Net1(\n",
      "  (conv): Conv2d(1, 10, kernel_size=(3, 3), stride=(1, 1), bias=False)\n",
      "  (layer1): Linear(in_features=6, out_features=10, bias=True)\n",
      "  (layerF): ReLU()\n",
      "  (layer2): Linear(in_features=10, out_features=1, bias=False)\n",
      ")\n",
      "<class '__main__.Net1'>\n",
      "=============\n",
      "Conv2d(1, 10, kernel_size=(3, 3), stride=(1, 1), bias=False)\n",
      "<class 'torch.nn.modules.conv.Conv2d'>\n",
      "torch.Size([10, 1, 3, 3])\n",
      "=============\n",
      "Linear(in_features=6, out_features=10, bias=True)\n",
      "<class 'torch.nn.modules.linear.Linear'>\n",
      "=============\n",
      "ReLU()\n",
      "<class 'torch.nn.modules.activation.ReLU'>\n",
      "=============\n",
      "Linear(in_features=10, out_features=1, bias=False)\n",
      "<class 'torch.nn.modules.linear.Linear'>\n"
     ]
    }
   ],
   "source": [
    "for m in model.modules():\n",
    "    print('=============')\n",
    "    \n",
    "    print(m)\n",
    "    print(type(m))\n",
    "    if isinstance(m , nn.Conv2d) :\n",
    "        print(m.weight.data.size())\n",
    "    elif isinstance(m , nn.BatchNorm2d) :\n",
    "        print(m.weight.data.size())\n",
    "        print(m.bias.data.size())"
   ]
  },
  {
   "cell_type": "markdown",
   "metadata": {},
   "source": [
    "### model_dict() 与 model.modules() 与 model.parameters()\n"
   ]
  },
  {
   "cell_type": "code",
   "execution_count": 6,
   "metadata": {},
   "outputs": [],
   "source": [
    "model_dict=model.state_dict()"
   ]
  },
  {
   "cell_type": "code",
   "execution_count": 31,
   "metadata": {},
   "outputs": [],
   "source": [
    "model_dict['layer1.weight']=torch.ones(10,6)"
   ]
  },
  {
   "cell_type": "code",
   "execution_count": 29,
   "metadata": {},
   "outputs": [],
   "source": [
    "import copy\n",
    "model_dict1=copy.deepcopy(model.state_dict())"
   ]
  },
  {
   "cell_type": "code",
   "execution_count": 24,
   "metadata": {
    "scrolled": true
   },
   "outputs": [
    {
     "name": "stdout",
     "output_type": "stream",
     "text": [
      "conv.weight\n",
      "tensor([[[[1., 1., 1.],\n",
      "          [1., 1., 1.],\n",
      "          [1., 1., 1.]]],\n",
      "\n",
      "\n",
      "        [[[1., 1., 1.],\n",
      "          [1., 1., 1.],\n",
      "          [1., 1., 1.]]],\n",
      "\n",
      "\n",
      "        [[[1., 1., 1.],\n",
      "          [1., 1., 1.],\n",
      "          [1., 1., 1.]]],\n",
      "\n",
      "\n",
      "        [[[1., 1., 1.],\n",
      "          [1., 1., 1.],\n",
      "          [1., 1., 1.]]],\n",
      "\n",
      "\n",
      "        [[[1., 1., 1.],\n",
      "          [1., 1., 1.],\n",
      "          [1., 1., 1.]]],\n",
      "\n",
      "\n",
      "        [[[1., 1., 1.],\n",
      "          [1., 1., 1.],\n",
      "          [1., 1., 1.]]],\n",
      "\n",
      "\n",
      "        [[[1., 1., 1.],\n",
      "          [1., 1., 1.],\n",
      "          [1., 1., 1.]]],\n",
      "\n",
      "\n",
      "        [[[1., 1., 1.],\n",
      "          [1., 1., 1.],\n",
      "          [1., 1., 1.]]],\n",
      "\n",
      "\n",
      "        [[[1., 1., 1.],\n",
      "          [1., 1., 1.],\n",
      "          [1., 1., 1.]]],\n",
      "\n",
      "\n",
      "        [[[1., 1., 1.],\n",
      "          [1., 1., 1.],\n",
      "          [1., 1., 1.]]]])\n",
      "layer1.weight\n",
      "tensor([[1., 1., 1., 1., 1., 1.],\n",
      "        [1., 1., 1., 1., 1., 1.],\n",
      "        [1., 1., 1., 1., 1., 1.],\n",
      "        [1., 1., 1., 1., 1., 1.],\n",
      "        [1., 1., 1., 1., 1., 1.],\n",
      "        [1., 1., 1., 1., 1., 1.],\n",
      "        [1., 1., 1., 1., 1., 1.],\n",
      "        [1., 1., 1., 1., 1., 1.],\n",
      "        [1., 1., 1., 1., 1., 1.],\n",
      "        [1., 1., 1., 1., 1., 1.]])\n",
      "layer1.bias\n",
      "tensor([-0.1425,  0.2320, -0.3436,  0.0949,  0.1686, -0.0902, -0.3291,  0.1184,\n",
      "        -0.2011, -0.3085])\n",
      "layer2.weight\n",
      "tensor([[1., 1., 1., 1., 1., 1., 1., 1., 1., 1.]])\n"
     ]
    }
   ],
   "source": [
    "for key in model_dict1:\n",
    "    print(key)\n",
    "    print(model_dict1[key])"
   ]
  },
  {
   "cell_type": "code",
   "execution_count": 34,
   "metadata": {
    "scrolled": true
   },
   "outputs": [
    {
     "data": {
      "text/plain": [
       "tensor([[1., 1., 1., 1., 1., 1.],\n",
       "        [1., 1., 1., 1., 1., 1.],\n",
       "        [1., 1., 1., 1., 1., 1.],\n",
       "        [1., 1., 1., 1., 1., 1.],\n",
       "        [1., 1., 1., 1., 1., 1.],\n",
       "        [1., 1., 1., 1., 1., 1.],\n",
       "        [1., 1., 1., 1., 1., 1.],\n",
       "        [1., 1., 1., 1., 1., 1.],\n",
       "        [1., 1., 1., 1., 1., 1.],\n",
       "        [1., 1., 1., 1., 1., 1.]])"
      ]
     },
     "execution_count": 34,
     "metadata": {},
     "output_type": "execute_result"
    }
   ],
   "source": [
    "model_dict['layer1.weight']"
   ]
  },
  {
   "cell_type": "code",
   "execution_count": 32,
   "metadata": {},
   "outputs": [
    {
     "data": {
      "text/plain": [
       "<All keys matched successfully>"
      ]
     },
     "execution_count": 32,
     "metadata": {},
     "output_type": "execute_result"
    }
   ],
   "source": [
    "model.load_state_dict(model_dict)"
   ]
  },
  {
   "cell_type": "code",
   "execution_count": 7,
   "metadata": {},
   "outputs": [
    {
     "name": "stdout",
     "output_type": "stream",
     "text": [
      "<class 'collections.OrderedDict'>\n",
      "<class 'odict_items'>\n",
      "odict_keys(['conv.weight', 'layer1.weight', 'layer1.bias', 'layer2.weight'])\n"
     ]
    }
   ],
   "source": [
    "#print(model_dict)\n",
    "\n",
    "print(type(model_dict))\n",
    "print(type(model_dict.items()))\n",
    "print(model_dict.keys())"
   ]
  },
  {
   "cell_type": "code",
   "execution_count": 8,
   "metadata": {},
   "outputs": [],
   "source": [
    "keys=model_dict.keys()"
   ]
  },
  {
   "cell_type": "code",
   "execution_count": 9,
   "metadata": {},
   "outputs": [
    {
     "name": "stdout",
     "output_type": "stream",
     "text": [
      "conv.weight\n",
      "layer1.weight\n",
      "layer1.bias\n",
      "layer2.weight\n"
     ]
    }
   ],
   "source": [
    "for key in keys:\n",
    "    print(key)\n",
    "    if re.search(\"mean\",key) or re.search(\"_var\",key):\n",
    "        print(model_dict[key])"
   ]
  },
  {
   "cell_type": "code",
   "execution_count": 10,
   "metadata": {},
   "outputs": [
    {
     "name": "stdout",
     "output_type": "stream",
     "text": [
      "=============\n",
      "Net1(\n",
      "  (conv): Conv2d(1, 10, kernel_size=(3, 3), stride=(1, 1), bias=False)\n",
      "  (layer1): Linear(in_features=6, out_features=10, bias=True)\n",
      "  (layerF): ReLU()\n",
      "  (layer2): Linear(in_features=10, out_features=1, bias=False)\n",
      ")\n",
      "=============\n",
      "Conv2d(1, 10, kernel_size=(3, 3), stride=(1, 1), bias=False)\n",
      "<class 'torch.Tensor'>\n",
      "=============\n",
      "Linear(in_features=6, out_features=10, bias=True)\n",
      "=============\n",
      "ReLU()\n",
      "=============\n",
      "Linear(in_features=10, out_features=1, bias=False)\n"
     ]
    }
   ],
   "source": [
    "for m in model.modules():\n",
    "    print('=============')\n",
    "    \n",
    "    print(m)\n",
    "    if isinstance(m , nn.Conv2d) :\n",
    "        print(type(m.weight.data))\n"
   ]
  },
  {
   "cell_type": "code",
   "execution_count": 19,
   "metadata": {},
   "outputs": [
    {
     "name": "stdout",
     "output_type": "stream",
     "text": [
      "Parameter containing:\n",
      "tensor([[[[1., 1., 1.],\n",
      "          [1., 1., 1.],\n",
      "          [1., 1., 1.]]],\n",
      "\n",
      "\n",
      "        [[[1., 1., 1.],\n",
      "          [1., 1., 1.],\n",
      "          [1., 1., 1.]]],\n",
      "\n",
      "\n",
      "        [[[1., 1., 1.],\n",
      "          [1., 1., 1.],\n",
      "          [1., 1., 1.]]],\n",
      "\n",
      "\n",
      "        [[[1., 1., 1.],\n",
      "          [1., 1., 1.],\n",
      "          [1., 1., 1.]]],\n",
      "\n",
      "\n",
      "        [[[1., 1., 1.],\n",
      "          [1., 1., 1.],\n",
      "          [1., 1., 1.]]],\n",
      "\n",
      "\n",
      "        [[[1., 1., 1.],\n",
      "          [1., 1., 1.],\n",
      "          [1., 1., 1.]]],\n",
      "\n",
      "\n",
      "        [[[1., 1., 1.],\n",
      "          [1., 1., 1.],\n",
      "          [1., 1., 1.]]],\n",
      "\n",
      "\n",
      "        [[[1., 1., 1.],\n",
      "          [1., 1., 1.],\n",
      "          [1., 1., 1.]]],\n",
      "\n",
      "\n",
      "        [[[1., 1., 1.],\n",
      "          [1., 1., 1.],\n",
      "          [1., 1., 1.]]],\n",
      "\n",
      "\n",
      "        [[[1., 1., 1.],\n",
      "          [1., 1., 1.],\n",
      "          [1., 1., 1.]]]], requires_grad=True) torch.Size([10, 1, 3, 3])\n",
      "Parameter containing:\n",
      "tensor([[1., 1., 1., 1., 1., 1.],\n",
      "        [1., 1., 1., 1., 1., 1.],\n",
      "        [1., 1., 1., 1., 1., 1.],\n",
      "        [1., 1., 1., 1., 1., 1.],\n",
      "        [1., 1., 1., 1., 1., 1.],\n",
      "        [1., 1., 1., 1., 1., 1.],\n",
      "        [1., 1., 1., 1., 1., 1.],\n",
      "        [1., 1., 1., 1., 1., 1.],\n",
      "        [1., 1., 1., 1., 1., 1.],\n",
      "        [1., 1., 1., 1., 1., 1.]], requires_grad=True) torch.Size([10, 6])\n",
      "Parameter containing:\n",
      "tensor([-0.1425,  0.2320, -0.3436,  0.0949,  0.1686, -0.0902, -0.3291,  0.1184,\n",
      "        -0.2011, -0.3085], requires_grad=True) torch.Size([10])\n",
      "Parameter containing:\n",
      "tensor([[1., 1., 1., 1., 1., 1., 1., 1., 1., 1.]], requires_grad=True) torch.Size([1, 10])\n"
     ]
    }
   ],
   "source": [
    "for param in model.parameters():\n",
    "     print(param, param.size())"
   ]
  },
  {
   "cell_type": "code",
   "execution_count": null,
   "metadata": {},
   "outputs": [],
   "source": []
  },
  {
   "cell_type": "code",
   "execution_count": null,
   "metadata": {},
   "outputs": [],
   "source": []
  },
  {
   "cell_type": "code",
   "execution_count": null,
   "metadata": {},
   "outputs": [],
   "source": []
  }
 ],
 "metadata": {
  "kernelspec": {
   "display_name": "Python 3",
   "language": "python",
   "name": "python3"
  },
  "language_info": {
   "codemirror_mode": {
    "name": "ipython",
    "version": 3
   },
   "file_extension": ".py",
   "mimetype": "text/x-python",
   "name": "python",
   "nbconvert_exporter": "python",
   "pygments_lexer": "ipython3",
   "version": "3.6.9"
  }
 },
 "nbformat": 4,
 "nbformat_minor": 4
}
