{
 "cells": [
  {
   "cell_type": "code",
   "execution_count": 1,
   "metadata": {},
   "outputs": [
    {
     "name": "stdout",
     "output_type": "stream",
     "text": [
      "1.4.0+cpu\n"
     ]
    }
   ],
   "source": [
    "import torch\n",
    "import numpy as np\n",
    "import torch.nn as nn\n",
    "\n",
    "print(torch.__version__)"
   ]
  },
  {
   "cell_type": "code",
   "execution_count": 6,
   "metadata": {},
   "outputs": [],
   "source": [
    "x=torch.rand(4,2,3)\n",
    "l=nn.Linear(3,2)\n",
    "x1=torch.rand(4,2,3)"
   ]
  },
  {
   "cell_type": "code",
   "execution_count": 7,
   "metadata": {},
   "outputs": [
    {
     "name": "stdout",
     "output_type": "stream",
     "text": [
      "tensor([[[0.2309, 0.1385, 0.9924],\n",
      "         [0.1047, 0.9431, 0.7202]],\n",
      "\n",
      "        [[0.7513, 0.4351, 0.9169],\n",
      "         [0.5523, 0.7519, 0.8743]],\n",
      "\n",
      "        [[0.9072, 0.3436, 0.5456],\n",
      "         [0.1348, 0.1630, 0.9092]],\n",
      "\n",
      "        [[0.8118, 0.4208, 0.0097],\n",
      "         [0.9176, 0.9385, 0.5855]]]) \n",
      " tensor([[[0.8362, 0.1368, 0.5079],\n",
      "         [0.3379, 0.5915, 0.7950]],\n",
      "\n",
      "        [[0.7383, 0.3452, 0.7040],\n",
      "         [0.0712, 0.4878, 0.4032]],\n",
      "\n",
      "        [[0.1832, 0.9753, 0.3479],\n",
      "         [0.8639, 0.7241, 0.9558]],\n",
      "\n",
      "        [[0.5863, 0.2502, 0.8930],\n",
      "         [0.7758, 0.0168, 0.3660]]])\n"
     ]
    }
   ],
   "source": [
    "print(x,'\\n',x1)"
   ]
  },
  {
   "cell_type": "code",
   "execution_count": null,
   "metadata": {},
   "outputs": [],
   "source": []
  },
  {
   "cell_type": "code",
   "execution_count": 8,
   "metadata": {
    "scrolled": false
   },
   "outputs": [
    {
     "name": "stdout",
     "output_type": "stream",
     "text": [
      "tensor([[[0.1931, 0.0189, 0.5041],\n",
      "         [0.0354, 0.5578, 0.5726]],\n",
      "\n",
      "        [[0.5547, 0.1502, 0.6456],\n",
      "         [0.0393, 0.3668, 0.3525]],\n",
      "\n",
      "        [[0.1662, 0.3351, 0.1898],\n",
      "         [0.1165, 0.1180, 0.8690]],\n",
      "\n",
      "        [[0.4759, 0.1053, 0.0087],\n",
      "         [0.7119, 0.0158, 0.2143]]]) \n",
      " tensor([[[0.1931, 0.0189, 0.5041],\n",
      "         [0.0354, 0.5578, 0.5726]],\n",
      "\n",
      "        [[0.5547, 0.1502, 0.6456],\n",
      "         [0.0393, 0.3668, 0.3525]],\n",
      "\n",
      "        [[0.1662, 0.3351, 0.1898],\n",
      "         [0.1165, 0.1180, 0.8690]],\n",
      "\n",
      "        [[0.4759, 0.1053, 0.0087],\n",
      "         [0.7119, 0.0158, 0.2143]]])\n"
     ]
    }
   ],
   "source": [
    "n=x*x1\n",
    "n1=torch.mul(x,x1)\n",
    "print(n,'\\n',n1)"
   ]
  },
  {
   "cell_type": "code",
   "execution_count": 9,
   "metadata": {
    "scrolled": true
   },
   "outputs": [
    {
     "data": {
      "text/plain": [
       "tensor(7.3175)"
      ]
     },
     "execution_count": 9,
     "metadata": {},
     "output_type": "execute_result"
    }
   ],
   "source": [
    "torch.sum(n1,)"
   ]
  },
  {
   "cell_type": "code",
   "execution_count": 18,
   "metadata": {},
   "outputs": [
    {
     "data": {
      "text/plain": [
       "tensor([[[1., 1., 1., 1.],\n",
       "         [1., 1., 1., 1.],\n",
       "         [1., 1., 1., 1.]],\n",
       "\n",
       "        [[1., 1., 1., 1.],\n",
       "         [1., 1., 1., 1.],\n",
       "         [1., 1., 1., 1.]]])"
      ]
     },
     "execution_count": 18,
     "metadata": {},
     "output_type": "execute_result"
    }
   ],
   "source": [
    "m=torch.ones(2,3,4)\n",
    "m"
   ]
  },
  {
   "cell_type": "code",
   "execution_count": 20,
   "metadata": {},
   "outputs": [
    {
     "data": {
      "text/plain": [
       "tensor([12., 12.])"
      ]
     },
     "execution_count": 20,
     "metadata": {},
     "output_type": "execute_result"
    }
   ],
   "source": [
    "torch.sum(m.sum(2),1)"
   ]
  }
 ],
 "metadata": {
  "kernelspec": {
   "display_name": "Python 3",
   "language": "python",
   "name": "python3"
  },
  "language_info": {
   "codemirror_mode": {
    "name": "ipython",
    "version": 3
   },
   "file_extension": ".py",
   "mimetype": "text/x-python",
   "name": "python",
   "nbconvert_exporter": "python",
   "pygments_lexer": "ipython3",
   "version": "3.6.9"
  }
 },
 "nbformat": 4,
 "nbformat_minor": 4
}
