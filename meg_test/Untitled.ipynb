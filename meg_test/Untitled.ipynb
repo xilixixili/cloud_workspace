{
 "cells": [
  {
   "cell_type": "code",
   "execution_count": 1,
   "metadata": {},
   "outputs": [],
   "source": [
    "import megengine as mge\n",
    "import megengine.functional as F\n",
    "import numpy as np\n",
    "\n",
    "\n",
    "import megengine.module as M"
   ]
  },
  {
   "cell_type": "code",
   "execution_count": 2,
   "metadata": {},
   "outputs": [
    {
     "name": "stderr",
     "output_type": "stream",
     "text": [
      "\u001b[33m25 23:22:56[mgb] \u001b[0m\u001b[1;31mWRN cuda unavailable: CUDA driver version is insufficient for CUDA runtime version(35) ndev=-1\u001b[0m\n"
     ]
    },
    {
     "name": "stdout",
     "output_type": "stream",
     "text": [
      "(2, 16, 28, 28)\n"
     ]
    }
   ],
   "source": [
    "def two_layer_conv(x):\n",
    "    conv_weight = mge.Parameter(np.random.randn(8, 3, 3, 3).astype(np.float32))\n",
    "    conv_bias = mge.Parameter(np.zeros((1, 8, 1, 1), dtype=np.float32))\n",
    "    x = F.conv2d(x, conv_weight, conv_bias)\n",
    "    x = F.relu(x)\n",
    "    conv_weight = mge.Parameter(np.random.randn(16, 8, 3, 3).astype(np.float32))\n",
    "    conv_bias = mge.Parameter(np.zeros((1, 16, 1, 1), dtype=np.float32))\n",
    "    x = F.conv2d(x, conv_weight, conv_bias)\n",
    "    x = F.relu(x)\n",
    "    return x\n",
    "\n",
    "x = mge.tensor(np.random.randn(2, 3, 32, 32).astype(np.float32))\n",
    "out = two_layer_conv(x)\n",
    "print(out.shape)"
   ]
  },
  {
   "cell_type": "code",
   "execution_count": 3,
   "metadata": {
    "scrolled": true
   },
   "outputs": [
    {
     "name": "stdout",
     "output_type": "stream",
     "text": [
      "(2, 16, 28, 28)\n"
     ]
    }
   ],
   "source": [
    "\n",
    "class ConvReLU(M.Module):\n",
    "    def __init__(self, in_channels, out_channels):\n",
    "        super().__init__()\n",
    "       \n",
    "        self.conv_weight = mge.Parameter(np.random.randn(out_channels, in_channels, 3, 3).astype(np.float32))\n",
    "        self.conv_bias = mge.Parameter(np.zeros((1, out_channels, 1, 1), dtype=np.float32))\n",
    "        self.relu = M.ReLU()\n",
    "\n",
    "    def forward(self, x):\n",
    "        x = F.conv2d(x, self.conv_weight, self.conv_bias)\n",
    "        x = self.relu(x)\n",
    "        return x\n",
    "\n",
    "class TwoLayerConv(M.Module):\n",
    "    def __init__(self):\n",
    "        super().__init__()\n",
    "        self.conv_relu1 = ConvReLU(3, 8)\n",
    "        self.conv_relu2 = ConvReLU(8, 16)\n",
    "\n",
    "    def forward(self, x):\n",
    "        x = self.conv_relu1(x)\n",
    "        x = self.conv_relu2(x)\n",
    "        return x\n",
    "\n",
    "x = mge.tensor(np.random.randn(2, 3, 32, 32).astype(np.float32))    \n",
    "two_layer_conv_module = TwoLayerConv()\n",
    "out = two_layer_conv_module(x)\n",
    "print(out.shape)"
   ]
  },
  {
   "cell_type": "markdown",
   "metadata": {},
   "source": [
    "### 实测动静态图转换的时候也很方便，主要是用 jit 包中的 trace 装饰器"
   ]
  },
  {
   "cell_type": "code",
   "execution_count": 4,
   "metadata": {},
   "outputs": [],
   "source": [
    "from megengine.jit import trace\n",
    "\n",
    "@trace\n",
    "def train_func(data, label, *, opt, net): \n",
    "    logits = net(data)\n",
    "    loss = F.cross_entropy_with_softmax(logits, label)\n",
    "    opt.backward(loss)\n",
    "    return logits, loss\n"
   ]
  },
  {
   "cell_type": "code",
   "execution_count": 9,
   "metadata": {},
   "outputs": [
    {
     "name": "stdout",
     "output_type": "stream",
     "text": [
      "<class 'megengine.core.tensor.Tensor'>\n",
      "(64, 2)\n"
     ]
    }
   ],
   "source": [
    "class Net(M.Module):\n",
    "\n",
    "    def __init__(self):\n",
    "        self.fc0 = M.Linear(2, 100)\n",
    "\n",
    "    def forward(self, inp):\n",
    "        return self.fc0(inp)\n",
    "\n",
    "net = Net()\n",
    "'''\n",
    "for i in range(100000):\n",
    "    data = mge.tensor(\n",
    "        np.random.rand(64, 2).astype(np.float32) * 2 - 1\n",
    "    )\n",
    "    net(data)\n",
    "'''\n",
    "data = mge.tensor(\n",
    "np.random.rand(64, 2).astype(np.float32)\n",
    ")\n",
    "print(type(data))\n",
    "print(data.shape)\n",
    "for i in range(10):\n",
    "    data.set_value(np.random.rand(64, 2) * 2 -1)\n",
    "    # data.set_value(data * 2 - 1)\n",
    "    net(data)"
   ]
  },
  {
   "cell_type": "code",
   "execution_count": 10,
   "metadata": {},
   "outputs": [
    {
     "name": "stdout",
     "output_type": "stream",
     "text": [
      "Tensor([[ 0.927   0.1042]\n",
      " [ 0.8835  0.0697]\n",
      " [-0.4544  0.4407]\n",
      " [-0.8283 -0.6549]\n",
      " [-0.9535  0.3501]\n",
      " [ 0.9772 -0.7974]\n",
      " [ 0.536   0.3853]\n",
      " [-0.096   0.2484]\n",
      " [ 0.6059 -0.4675]\n",
      " [-0.319  -0.0927]\n",
      " [-0.2578  0.5769]\n",
      " [ 0.6835 -0.3111]\n",
      " [-0.0559 -0.598 ]\n",
      " [-0.6625 -0.1798]\n",
      " [ 0.0304  0.9723]\n",
      " [-0.8999  0.4183]\n",
      " [-0.5565  0.7022]\n",
      " [ 0.7117 -0.3448]\n",
      " [-0.8451  0.3555]\n",
      " [ 0.7735 -0.8291]\n",
      " [-0.501   0.9821]\n",
      " [ 0.6805 -0.7913]\n",
      " [-0.1598  0.8722]\n",
      " [-0.5516  0.7803]\n",
      " [-0.     -0.6572]\n",
      " [ 0.3028 -0.3561]\n",
      " [ 0.447  -0.3233]\n",
      " [-0.6793  0.6764]\n",
      " [ 0.6094  0.9067]\n",
      " [-0.5335 -0.6463]\n",
      " [-0.6327 -0.5482]\n",
      " [ 0.3676  0.3635]\n",
      " [ 0.3269 -0.6905]\n",
      " [-0.8356  0.7812]\n",
      " [ 0.2038 -0.1672]\n",
      " [ 0.5433  0.7714]\n",
      " [-0.9011 -0.9449]\n",
      " [ 0.6092 -0.7962]\n",
      " [-0.5369 -0.004 ]\n",
      " [ 0.6117 -0.5627]\n",
      " [ 0.2563  0.2303]\n",
      " [-0.0146  0.5058]\n",
      " [ 0.1429  0.1812]\n",
      " [ 0.9388 -0.829 ]\n",
      " [ 0.3355  0.4483]\n",
      " [-0.6645 -0.4136]\n",
      " [-0.1015  0.4516]\n",
      " [ 0.4088  0.877 ]\n",
      " [-0.2481 -0.846 ]\n",
      " [-0.1691 -0.0581]\n",
      " [ 0.388  -0.1029]\n",
      " [-0.1442 -0.0866]\n",
      " [-0.8638 -0.7615]\n",
      " [-0.0349  0.4578]\n",
      " [-0.1825 -0.9604]\n",
      " [-0.1478 -0.9394]\n",
      " [ 0.2889  0.5758]\n",
      " [-0.5813 -0.2706]\n",
      " [ 0.6993  0.2306]\n",
      " [ 0.9216  0.7834]\n",
      " [ 0.7278 -0.8786]\n",
      " [ 0.7174 -0.7333]\n",
      " [-0.0835  0.8475]\n",
      " [ 0.8303 -0.76  ]])\n"
     ]
    }
   ],
   "source": [
    "print(data)"
   ]
  }
 ],
 "metadata": {
  "kernelspec": {
   "display_name": "Python 3",
   "language": "python",
   "name": "python3"
  },
  "language_info": {
   "codemirror_mode": {
    "name": "ipython",
    "version": 3
   },
   "file_extension": ".py",
   "mimetype": "text/x-python",
   "name": "python",
   "nbconvert_exporter": "python",
   "pygments_lexer": "ipython3",
   "version": "3.6.9"
  }
 },
 "nbformat": 4,
 "nbformat_minor": 4
}
