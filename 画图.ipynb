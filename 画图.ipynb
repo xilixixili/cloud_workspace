{
 "cells": [
  {
   "cell_type": "code",
   "execution_count": 1,
   "metadata": {
    "scrolled": true
   },
   "outputs": [
    {
     "data": {
      "text/plain": [
       "[<matplotlib.lines.Line2D at 0x7fdba058c860>]"
      ]
     },
     "execution_count": 1,
     "metadata": {},
     "output_type": "execute_result"
    },
    {
     "data": {
      "image/png": "[encoded data removed]",
      "text/plain": [
       "<Figure size 432x288 with 1 Axes>"
      ]
     },
     "metadata": {
      "needs_background": "light"
     },
     "output_type": "display_data"
    }
   ],
   "source": [
    "import matplotlib.pyplot as plt  #导入matplotlib库\n",
    "import numpy as np  #导入numpy库\n",
    "#生成x步长为0.1的列表数据\n",
    "x = np.arange(-15,15,0.1)\n",
    "#生成sigmiod形式的y数据\n",
    "y=1/(1+np.exp(-x))\n",
    "#设置x、y坐标轴的范围\n",
    "plt.xlim(-12,12)\n",
    "plt.ylim(-1, 1)\n",
    "#绘制图形\n",
    "plt.plot(x,y, c='b')"
   ]
  },
  {
   "cell_type": "code",
   "execution_count": 14,
   "metadata": {
    "scrolled": true
   },
   "outputs": [
    {
     "data": {
      "image/png": "[encoded data removed]",
      "text/plain": [
       "<Figure size 360x360 with 1 Axes>"
      ]
     },
     "metadata": {
      "needs_background": "light"
     },
     "output_type": "display_data"
    }
   ],
   "source": [
    "import mpl_toolkits.axisartist as axisartist\n",
    "#创建画布\n",
    "fig = plt.figure(figsize=(5, 5))\n",
    "#使用axisartist.Subplot方法创建一个绘图区对象ax\n",
    "ax = axisartist.Subplot(fig, 111)  \n",
    "#将绘图区对象添加到画布中\n",
    "fig.add_axes(ax)\n",
    "\n",
    "#通过set_visible方法设置绘图区所有坐标轴隐藏\n",
    "ax.axis[:].set_visible(False)\n",
    "\n",
    "#ax.new_floating_axis代表添加新的坐标轴\n",
    "ax.axis[\"x\"] = ax.new_floating_axis(0,0)\n",
    "#给x坐标轴加上箭头\n",
    "ax.axis[\"x\"].set_axisline_style(\"-|>\", size = 1.0)\n",
    "#添加y坐标轴，且加上箭头\n",
    "ax.axis[\"y\"] = ax.new_floating_axis(1,0)\n",
    "ax.axis[\"y\"].set_axisline_style(\"-|>\", size = 10.0)\n",
    "#设置x、y轴上刻度显示方向\n",
    "ax.axis[\"x\"].set_axis_direction(\"top\")\n",
    "ax.axis[\"y\"].set_axis_direction(\"right\")\n",
    "\n"
   ]
  },
  {
   "cell_type": "code",
   "execution_count": 13,
   "metadata": {},
   "outputs": [
    {
     "data": {
      "image/png": "[encoded data removed]",
      "text/plain": [
       "<Figure size 360x360 with 1 Axes>"
      ]
     },
     "metadata": {
      "needs_background": "light"
     },
     "output_type": "display_data"
    }
   ],
   "source": [
    "import mpl_toolkits.axisartist as axisartist\n",
    "#创建画布\n",
    "fig = plt.figure(figsize=(5, 5))\n",
    "#使用axisartist.Subplot方法创建一个绘图区对象ax\n",
    "ax = axisartist.Subplot(fig, 111)  \n",
    "#将绘图区对象添加到画布中\n",
    "fig.add_axes(ax)\n",
    "\n",
    "#通过set_visible方法设置绘图区所有坐标轴隐藏\n",
    "ax.axis[:].set_visible(False)\n",
    "\n",
    "#ax.new_floating_axis代表添加新的坐标轴\n",
    "ax.axis[\"x\"] = ax.new_floating_axis(0,0)\n",
    "#给x坐标轴加上箭头\n",
    "ax.axis[\"x\"].set_axisline_style(\"-|>\", size = 1.0)\n",
    "#添加y坐标轴，且加上箭头\n",
    "ax.axis[\"y\"] = ax.new_floating_axis(1,0)\n",
    "ax.axis[\"y\"].set_axisline_style(\"-|>\", size = 1.0)\n",
    "#设置x、y轴上刻度显示方向\n",
    "ax.axis[\"x\"].set_axis_direction(\"top\")\n",
    "ax.axis[\"y\"].set_axis_direction(\"right\")\n"
   ]
  }
 ],
 "metadata": {
  "kernelspec": {
   "display_name": "Python 3",
   "language": "python",
   "name": "python3"
  },
  "language_info": {
   "codemirror_mode": {
    "name": "ipython",
    "version": 3
   },
   "file_extension": ".py",
   "mimetype": "text/x-python",
   "name": "python",
   "nbconvert_exporter": "python",
   "pygments_lexer": "ipython3",
   "version": "3.6.9"
  }
 },
 "nbformat": 4,
 "nbformat_minor": 4
}
