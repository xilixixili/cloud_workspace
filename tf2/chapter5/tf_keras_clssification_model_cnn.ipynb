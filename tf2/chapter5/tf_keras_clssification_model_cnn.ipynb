{
 "cells": [
  {
   "cell_type": "code",
   "execution_count": 1,
   "metadata": {
    "scrolled": true
   },
   "outputs": [
    {
     "name": "stdout",
     "output_type": "stream",
     "text": [
      "2.1.0\n",
      "sys.version_info(major=3, minor=6, micro=9, releaselevel='final', serial=0)\n",
      "matplotlib 3.2.1\n",
      "numpy 1.18.2\n",
      "sklearn 0.22.2.post1\n",
      "tensorflow 2.1.0\n",
      "tensorflow_core.python.keras.api._v2.keras 2.2.4-tf\n"
     ]
    }
   ],
   "source": [
    "import matplotlib as mpl\n",
    "import matplotlib.pyplot as plt\n",
    "%matplotlib inline\n",
    "import numpy as np\n",
    "import sklearn \n",
    "import pandas as pd\n",
    "import os\n",
    "import sys\n",
    "import time\n",
    "import tensorflow as tf\n",
    "\n",
    "from tensorflow import keras\n",
    "\n",
    "print(tf.__version__)\n",
    "print(sys.version_info)\n",
    "for module in mpl,np,sklearn,tf,keras:\n",
    "    print(module.__name__,module.__version__)"
   ]
  },
  {
   "cell_type": "code",
   "execution_count": 2,
   "metadata": {
    "scrolled": true
   },
   "outputs": [
    {
     "name": "stdout",
     "output_type": "stream",
     "text": [
      "(5000, 28, 28) (5000,)\n",
      "(55000, 28, 28) (55000,)\n",
      "(10000, 28, 28) (10000,)\n"
     ]
    }
   ],
   "source": [
    "fashion_mnist = keras.datasets.fashion_mnist\n",
    "(x_train_all,y_train_all),(x_test,y_test)=fashion_mnist.load_data()\n",
    "x_valid,x_train=x_train_all[:5000],x_train_all[5000:]\n",
    "y_valid,y_train=y_train_all[:5000],y_train_all[5000:]\n",
    "\n",
    "print(x_valid.shape,y_valid.shape)\n",
    "print(x_train.shape,y_train.shape)\n",
    "print(x_test.shape,y_test.shape)"
   ]
  },
  {
   "cell_type": "code",
   "execution_count": 3,
   "metadata": {},
   "outputs": [],
   "source": [
    "# 归一化\n",
    "from sklearn.preprocessing import StandardScaler\n",
    "\n",
    "scaler =StandardScaler()\n",
    "# x_train: [None,28,28]-> [None,784]\n",
    "x_train_scaled=scaler.fit_transform(x_train.astype(np.float32).reshape(-1,1)).reshape(-1,28,28,1)\n",
    "x_valid_scaled=scaler.transform(x_valid.astype(np.float32).reshape(-1,1)).reshape(-1,28,28,1)\n",
    "x_test_scaled=scaler.transform(x_test.astype(np.float32).reshape(-1,1)).reshape(-1,28,28,1)"
   ]
  },
  {
   "cell_type": "code",
   "execution_count": 7,
   "metadata": {},
   "outputs": [],
   "source": [
    "\n",
    "model=keras.models.Sequential()\n",
    "model.add(keras.layers.Conv2D(filters=32,kernel_size=3,padding='same',activation='relu',input_shape=(28,28,1)))\n",
    "model.add(keras.layers.Conv2D(filters=32,kernel_size=3,padding='same',activation='relu'))\n",
    "model.add(keras.layers.MaxPool2D(pool_size=2))\n",
    "\n",
    "model.add(keras.layers.Conv2D(filters=64,kernel_size=3,padding='same',activation='relu'))\n",
    "model.add(keras.layers.Conv2D(filters=64,kernel_size=3,padding='same',activation='relu'))\n",
    "model.add(keras.layers.MaxPool2D(pool_size=2))\n",
    "\n",
    "model.add(keras.layers.Conv2D(filters=128,kernel_size=3,padding='same',activation='relu'))\n",
    "model.add(keras.layers.Conv2D(filters=128,kernel_size=3,padding='same',activation='relu'))\n",
    "model.add(keras.layers.MaxPool2D(pool_size=2))\n",
    "\n",
    "model.add(keras.layers.Flatten())\n",
    "model.add(keras.layers.Dense(128,activation='relu'))\n",
    "model.add(keras.layers.Dense(10,activation='softmax'))\n",
    "\n",
    "model.compile(loss='sparse_categorical_crossentropy',optimizer='sgd',metrics=['accuracy'])"
   ]
  },
  {
   "cell_type": "code",
   "execution_count": 8,
   "metadata": {},
   "outputs": [
    {
     "name": "stdout",
     "output_type": "stream",
     "text": [
      "Model: \"sequential_3\"\n",
      "_________________________________________________________________\n",
      "Layer (type)                 Output Shape              Param #   \n",
      "=================================================================\n",
      "conv2d_3 (Conv2D)            (None, 28, 28, 32)        320       \n",
      "_________________________________________________________________\n",
      "conv2d_4 (Conv2D)            (None, 28, 28, 32)        9248      \n",
      "_________________________________________________________________\n",
      "max_pooling2d_1 (MaxPooling2 (None, 14, 14, 32)        0         \n",
      "_________________________________________________________________\n",
      "conv2d_5 (Conv2D)            (None, 14, 14, 64)        18496     \n",
      "_________________________________________________________________\n",
      "conv2d_6 (Conv2D)            (None, 14, 14, 64)        36928     \n",
      "_________________________________________________________________\n",
      "max_pooling2d_2 (MaxPooling2 (None, 7, 7, 64)          0         \n",
      "_________________________________________________________________\n",
      "conv2d_7 (Conv2D)            (None, 7, 7, 128)         73856     \n",
      "_________________________________________________________________\n",
      "conv2d_8 (Conv2D)            (None, 7, 7, 128)         147584    \n",
      "_________________________________________________________________\n",
      "max_pooling2d_3 (MaxPooling2 (None, 3, 3, 128)         0         \n",
      "_________________________________________________________________\n",
      "flatten (Flatten)            (None, 1152)              0         \n",
      "_________________________________________________________________\n",
      "dense (Dense)                (None, 128)               147584    \n",
      "_________________________________________________________________\n",
      "dense_1 (Dense)              (None, 10)                1290      \n",
      "=================================================================\n",
      "Total params: 435,306\n",
      "Trainable params: 435,306\n",
      "Non-trainable params: 0\n",
      "_________________________________________________________________\n"
     ]
    }
   ],
   "source": [
    "model.summary()"
   ]
  },
  {
   "cell_type": "code",
   "execution_count": null,
   "metadata": {
    "scrolled": true
   },
   "outputs": [
    {
     "name": "stdout",
     "output_type": "stream",
     "text": [
      "Train on 55000 samples, validate on 5000 samples\n",
      "Epoch 1/10\n",
      "55000/55000 [==============================] - 277s 5ms/sample - loss: 0.7668 - accuracy: 0.7227 - val_loss: 0.4236 - val_accuracy: 0.8494\n",
      "Epoch 2/10\n",
      "55000/55000 [==============================] - 272s 5ms/sample - loss: 0.4163 - accuracy: 0.8456 - val_loss: 0.3726 - val_accuracy: 0.8660\n",
      "Epoch 3/10\n",
      "55000/55000 [==============================] - 274s 5ms/sample - loss: 0.3511 - accuracy: 0.8703 - val_loss: 0.3338 - val_accuracy: 0.8756\n",
      "Epoch 4/10\n",
      "32960/55000 [================>.............] - ETA: 17:10 - loss: 0.3203 - accuracy: 0.8814ETA: 4:08 - loss: 0.3186 - accuracy: 0.88 - ETA: 4:11 - loss: 0.3186 - accuracy - ETA: 4:25 - loss: 0.3188 - accuracy - ETA: 4:43 - loss: 0.3195 - accuracy:  - ETA: 4:55 - loss: 0.3195 - accuracy:  - ETA: 5:12 - loss: 0.3198 - accuracy: 0. - ETA: 5:23 - loss: 0.3202 - accuracy:  - ETA: 5:47 - loss: 0.3202 - accuracy: 0. - ETA: 6:02 - loss: 0.3201 - accuracy: 0. - ETA: 6:11 - loss: 0.3199 - accuracy:  - ETA: 6:23 - loss: 0.3197 - accuracy - ETA: 6:32 - loss: 0.3200 - accuracy: 0.88 - ETA: 6:37 - loss: 0.3198 - accuracy:  - ETA: 6:48 - loss: 0.3201 - accura - ETA: 7:21 - loss: 0.3200 - accuracy: 0.88 - ETA: 7:25 - loss: 0.3201 - accuracy:  - ETA: 7:43 - loss: 0.3203 - accuracy: 0.88 - ETA: 7:52 - loss: 0.3202 - accuracy - ETA: 8:05 - loss: 0.3204 - accuracy: 0.88 - ETA: 8:19 - loss: 0.3206 - accuracy: 0.88 - ETA: 8:35 - loss: 0.3208 - accuracy: 0. - ETA: 8:56 - loss: 0.3208 - accuracy:  - ETA: 9:32 - loss: 0.3207 - accuracy: 0. - ETA: 10:13 - loss: 0.3209 - accuracy: 0.881 - ETA: 10:33 - loss: 0.3208 - accuracy: 0.881 - ETA: 10:55 - loss: 0.3206 - accuracy: 0.881 - ETA: 11:17 - loss: 0.3209 - accuracy: 0.881 - ETA: 11:33 - loss: 0.3209 - accuracy: 0. - ETA: 12:20 - loss: 0.3208 - accuracy: 0.881 - ETA: 12:36 - loss: 0.3207 - accuracy: 0.881 - ETA: 13:13 - loss: 0.3207 - accuracy: 0.881 - ETA: 13:32 - loss: 0.3211 - accuracy: 0.881 - ETA: 13:57 - loss: 0.3211 - accuracy: 0.881 - ETA: 14:21 - loss: 0.3209 - accuracy: 0.881 - ETA: 14:48 - loss: 0.3209 - accuracy: 0.881 - ETA: 15:22 - loss: 0.3209 - accuracy: 0.881 - ETA: 15:51 - loss: 0.3208 - accuracy: 0.881 - ETA: 16:12 - loss: 0.3206 - accuracy: 0.881 - ETA: 16:47 - loss: 0.3205 - accuracy: 0.88 - ETA: 17:26 - loss: 0.3200 - accuracy: 0.881 - ETA: 17:47 - loss: 0.3201 - accuracy: 0.881 - ETA: 18:04 - loss: 0.3199 - accuracy: 0.881 - ETA: 19:26 - loss: 0.3201 - accuracy: 0.881 - ETA: 19:42 - loss: 0.3203 - accuracy: 0.881 - ETA: 20:03 - loss: 0.3202 - accuracy: 0.881 - ETA: 20:34 - loss: 0.3205 - accuracy: 0.881 - ETA: 20:58 - loss: 0.3205 - accuracy: 0.881 - ETA: 21:28 - loss: 0.3203 - accuracy: 0.881 - ETA: 21:51 - loss: 0.3203 - accuracy: 0.881 - ETA: 22:04 - loss: 0.3202 - accuracy: 0.881 - ETA: 22:30 - loss: 0.3201 - accuracy: 0.881 - ETA: 23:04 - loss: 0.3200 - accuracy: 0.881 - ETA: 23:33 - loss: 0.3200 - accuracy: 0.881 - ETA: 24:18 - loss: 0.3198 - accuracy: 0.881 - ETA: 26:21 - loss: 0.3197 - accuracy: 0.881 - ETA: 27:17 - loss: 0.3198 - accuracy: 0.881 - ETA: 27:48 - loss: 0.3196 - accuracy: 0.881 - ETA: 28:17 - loss: 0.3200 - accuracy: 0.881 - ETA: 29:03 - loss: 0.3200 - accuracy: 0.881 - ETA: 30:02 - loss: 0.3202 - accuracy: 0.881"
     ]
    }
   ],
   "source": [
    "# Tensorboard , earlystopping , ModelCheckpoint\n",
    "logdir = './cnn-selu-callbacks'\n",
    "if not os.path.exists(logdir):\n",
    "    os.mkdir(logdir)\n",
    "output_model_file=os.path.join(logdir, \"fashion_mnist_model.h5\")\n",
    "\n",
    "callbacks=[\n",
    "    keras.callbacks.TensorBoard(logdir),\n",
    "    keras.callbacks.ModelCheckpoint(output_model_file,save_best_only=True),\n",
    "    keras.callbacks.EarlyStopping(patience=5,min_delta=1e-3),\n",
    "\n",
    "]\n",
    "\n",
    "history=model.fit(x_train_scaled,y_train,epochs=10,validation_data=(x_valid_scaled,y_valid))"
   ]
  },
  {
   "cell_type": "code",
   "execution_count": null,
   "metadata": {},
   "outputs": [],
   "source": [
    "model.summary()"
   ]
  },
  {
   "cell_type": "code",
   "execution_count": null,
   "metadata": {},
   "outputs": [],
   "source": [
    "def plot_learning_curves(history):\n",
    "    pd.DataFrame(history.history).plot(figsize=(8,5))\n",
    "    plt.grid(True)\n",
    "    plt.gca().set_ylim(0,1)\n",
    "    plt.show()\n",
    "    \n",
    "plot_learning_curves(history)\n"
   ]
  },
  {
   "cell_type": "code",
   "execution_count": null,
   "metadata": {},
   "outputs": [],
   "source": [
    "model.evaluate(x_test_scaled,y_test)"
   ]
  },
  {
   "cell_type": "code",
   "execution_count": null,
   "metadata": {},
   "outputs": [],
   "source": []
  }
 ],
 "metadata": {
  "kernelspec": {
   "display_name": "Python 3",
   "language": "python",
   "name": "python3"
  },
  "language_info": {
   "codemirror_mode": {
    "name": "ipython",
    "version": 3
   },
   "file_extension": ".py",
   "mimetype": "text/x-python",
   "name": "python",
   "nbconvert_exporter": "python",
   "pygments_lexer": "ipython3",
   "version": "3.6.9"
  }
 },
 "nbformat": 4,
 "nbformat_minor": 4
}
