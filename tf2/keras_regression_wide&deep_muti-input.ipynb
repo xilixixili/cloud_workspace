{
 "cells": [
  {
   "cell_type": "markdown",
   "metadata": {},
   "source": [
    "### Tf-keras 和 keras 区别\n",
    "- tf.kears"
   ]
  },
  {
   "cell_type": "code",
   "execution_count": 12,
   "metadata": {
    "scrolled": true
   },
   "outputs": [
    {
     "name": "stdout",
     "output_type": "stream",
     "text": [
      "2.1.0\n",
      "sys.version_info(major=3, minor=6, micro=9, releaselevel='final', serial=0)\n",
      "matplotlib 3.2.1\n",
      "numpy 1.18.2\n",
      "sklearn 0.22.2.post1\n",
      "tensorflow 2.1.0\n",
      "tensorflow_core.keras 2.2.4-tf\n"
     ]
    }
   ],
   "source": [
    "import matplotlib as mpl\n",
    "import matplotlib.pyplot as plt\n",
    "%matplotlib inline\n",
    "import numpy as np\n",
    "import sklearn \n",
    "import pandas as pd\n",
    "import os\n",
    "import sys\n",
    "import time\n",
    "import tensorflow as tf\n",
    "\n",
    "from tensorflow import keras\n",
    "\n",
    "print(tf.__version__)\n",
    "print(sys.version_info)\n",
    "for module in mpl,np,sklearn,tf,keras:\n",
    "    print(module.__name__,module.__version__)"
   ]
  },
  {
   "cell_type": "code",
   "execution_count": 13,
   "metadata": {},
   "outputs": [
    {
     "name": "stdout",
     "output_type": "stream",
     "text": [
      ".. _california_housing_dataset:\n",
      "\n",
      "California Housing dataset\n",
      "--------------------------\n",
      "\n",
      "**Data Set Characteristics:**\n",
      "\n",
      "    :Number of Instances: 20640\n",
      "\n",
      "    :Number of Attributes: 8 numeric, predictive attributes and the target\n",
      "\n",
      "    :Attribute Information:\n",
      "        - MedInc        median income in block\n",
      "        - HouseAge      median house age in block\n",
      "        - AveRooms      average number of rooms\n",
      "        - AveBedrms     average number of bedrooms\n",
      "        - Population    block population\n",
      "        - AveOccup      average house occupancy\n",
      "        - Latitude      house block latitude\n",
      "        - Longitude     house block longitude\n",
      "\n",
      "    :Missing Attribute Values: None\n",
      "\n",
      "This dataset was obtained from the StatLib repository.\n",
      "http://lib.stat.cmu.edu/datasets/\n",
      "\n",
      "The target variable is the median house value for California districts.\n",
      "\n",
      "This dataset was derived from the 1990 U.S. census, using one row per census\n",
      "block group. A block group is the smallest geographical unit for which the U.S.\n",
      "Census Bureau publishes sample data (a block group typically has a population\n",
      "of 600 to 3,000 people).\n",
      "\n",
      "It can be downloaded/loaded using the\n",
      ":func:`sklearn.datasets.fetch_california_housing` function.\n",
      "\n",
      ".. topic:: References\n",
      "\n",
      "    - Pace, R. Kelley and Ronald Barry, Sparse Spatial Autoregressions,\n",
      "      Statistics and Probability Letters, 33 (1997) 291-297\n",
      "\n",
      "(20640, 8)\n",
      "(20640,)\n"
     ]
    }
   ],
   "source": [
    "from sklearn.datasets import fetch_california_housing\n",
    "housing=fetch_california_housing()\n",
    "print(housing.DESCR)\n",
    "print(housing.data.shape)\n",
    "print(housing.target.shape)"
   ]
  },
  {
   "cell_type": "code",
   "execution_count": 14,
   "metadata": {
    "scrolled": false
   },
   "outputs": [
    {
     "name": "stdout",
     "output_type": "stream",
     "text": [
      "(3870, 8) (3870,)\n",
      "(11610, 8) (11610,)\n",
      "(5160, 8) (5160,)\n"
     ]
    }
   ],
   "source": [
    "from sklearn.model_selection import train_test_split\n",
    "x_train_all,x_test,y_train_all,y_test=train_test_split(housing.data,housing.target,random_state=7)\n",
    "x_train,x_valid,y_train,y_valid=train_test_split(x_train_all,y_train_all,random_state=11)\n",
    "\n",
    "print(x_valid.shape,y_valid.shape)\n",
    "print(x_train.shape,y_train.shape)\n",
    "print(x_test.shape,y_test.shape)"
   ]
  },
  {
   "cell_type": "code",
   "execution_count": 21,
   "metadata": {},
   "outputs": [],
   "source": [
    "from sklearn.preprocessing import StandardScaler\n",
    "\n",
    "scaler=StandardScaler()\n",
    "x_train_s=scaler.fit_transform(x_train)\n",
    "x_valid_s=scaler.fit_transform(x_valid)\n",
    "x_test_s=scaler.transform(x_test)"
   ]
  },
  {
   "cell_type": "code",
   "execution_count": null,
   "metadata": {},
   "outputs": [],
   "source": []
  },
  {
   "cell_type": "code",
   "execution_count": 17,
   "metadata": {},
   "outputs": [
    {
     "name": "stdout",
     "output_type": "stream",
     "text": [
      "Model: \"model\"\n",
      "__________________________________________________________________________________________________\n",
      "Layer (type)                    Output Shape         Param #     Connected to                     \n",
      "==================================================================================================\n",
      "input_4 (InputLayer)            [(None, 6)]          0                                            \n",
      "__________________________________________________________________________________________________\n",
      "dense_21 (Dense)                (None, 30)           210         input_4[0][0]                    \n",
      "__________________________________________________________________________________________________\n",
      "input_3 (InputLayer)            [(None, 5)]          0                                            \n",
      "__________________________________________________________________________________________________\n",
      "dense_22 (Dense)                (None, 30)           930         dense_21[0][0]                   \n",
      "__________________________________________________________________________________________________\n",
      "concatenate_1 (Concatenate)     (None, 35)           0           input_3[0][0]                    \n",
      "                                                                 dense_22[0][0]                   \n",
      "__________________________________________________________________________________________________\n",
      "dense_23 (Dense)                (None, 1)            36          concatenate_1[0][0]              \n",
      "==================================================================================================\n",
      "Total params: 1,176\n",
      "Trainable params: 1,176\n",
      "Non-trainable params: 0\n",
      "__________________________________________________________________________________________________\n"
     ]
    }
   ],
   "source": [
    "# tf.keras.models.Sequential()\n",
    "\n",
    "# model=keras.models.Sequential([\n",
    "#     keras.layers.Dense(30,activation='relu',input_shape=x_train.shape[1:]),\n",
    "#     keras.layers.Dense(1),\n",
    "# ])\n",
    "\n",
    "# 函数式API  功能API\n",
    "input_wide=keras.layers.Input(shape=[5])\n",
    "input_deep=keras.layers.Input(shape=[6])\n",
    "hidden1=keras.layers.Dense(30,activation='relu')(input_deep)\n",
    "hidden2=keras.layers.Dense(30,activation='relu')(hidden1)\n",
    "\n",
    "concat=keras.layers.concatenate([input_wide,hidden2])\n",
    "output=keras.layers.Dense(1)(concat)\n",
    "\n",
    "model=keras.models.Model(inputs=[input_wide,input_deep],outputs=[output])\n",
    "\n",
    "model.summary()\n",
    "model.compile(loss='mean_squared_error',optimizer=\"sgd\")\n",
    "\n",
    "callbacks=[keras.callbacks.EarlyStopping(patience=5,min_delta=1e-2)]"
   ]
  },
  {
   "cell_type": "code",
   "execution_count": null,
   "metadata": {},
   "outputs": [],
   "source": [
    "\n"
   ]
  },
  {
   "cell_type": "code",
   "execution_count": 19,
   "metadata": {
    "scrolled": false
   },
   "outputs": [
    {
     "data": {
      "text/plain": [
       "[<tensorflow.python.keras.engine.input_layer.InputLayer at 0x7fcebc6a2cc0>,\n",
       " <tensorflow.python.keras.layers.core.Dense at 0x7fcebc6a2e10>,\n",
       " <tensorflow.python.keras.engine.input_layer.InputLayer at 0x7fcebc6a2d30>,\n",
       " <tensorflow.python.keras.layers.core.Dense at 0x7fcebc6a2c50>,\n",
       " <tensorflow.python.keras.layers.merge.Concatenate at 0x7fcebc623358>,\n",
       " <tensorflow.python.keras.layers.core.Dense at 0x7fcebc623710>]"
      ]
     },
     "execution_count": 19,
     "metadata": {},
     "output_type": "execute_result"
    }
   ],
   "source": [
    "model.layers"
   ]
  },
  {
   "cell_type": "code",
   "execution_count": 22,
   "metadata": {},
   "outputs": [
    {
     "name": "stdout",
     "output_type": "stream",
     "text": [
      "Train on 11610 samples, validate on 3870 samples\n",
      "Epoch 1/100\n",
      "11610/11610 [==============================] - 1s 83us/sample - loss: 0.8085 - val_loss: 2.5960\n",
      "Epoch 2/100\n",
      "11610/11610 [==============================] - 1s 46us/sample - loss: 0.6028 - val_loss: 0.4675\n",
      "Epoch 3/100\n",
      "11610/11610 [==============================] - 1s 47us/sample - loss: 0.4561 - val_loss: 0.4364\n",
      "Epoch 4/100\n",
      "11610/11610 [==============================] - 1s 46us/sample - loss: 0.4332 - val_loss: 0.4277\n",
      "Epoch 5/100\n",
      "11610/11610 [==============================] - 1s 45us/sample - loss: 0.4108 - val_loss: 0.4145\n",
      "Epoch 6/100\n",
      "11610/11610 [==============================] - 1s 47us/sample - loss: 0.4044 - val_loss: 0.4081\n",
      "Epoch 7/100\n",
      "11610/11610 [==============================] - 1s 47us/sample - loss: 0.3919 - val_loss: 0.4045\n",
      "Epoch 8/100\n",
      "11610/11610 [==============================] - 1s 45us/sample - loss: 0.3871 - val_loss: 0.4012\n",
      "Epoch 9/100\n",
      "11610/11610 [==============================] - 1s 48us/sample - loss: 0.3770 - val_loss: 0.4210\n",
      "Epoch 10/100\n",
      "11610/11610 [==============================] - 1s 45us/sample - loss: 0.3706 - val_loss: 0.4035\n",
      "Epoch 11/100\n",
      "11610/11610 [==============================] - 1s 46us/sample - loss: 0.3634 - val_loss: 0.3967\n",
      "Epoch 12/100\n",
      "11610/11610 [==============================] - 1s 49us/sample - loss: 0.3673 - val_loss: 0.3918\n",
      "Epoch 13/100\n",
      "11610/11610 [==============================] - 1s 55us/sample - loss: 0.3537 - val_loss: 0.3888\n",
      "Epoch 14/100\n",
      "11610/11610 [==============================] - 1s 47us/sample - loss: 0.3489 - val_loss: 0.4227\n",
      "Epoch 15/100\n",
      "11610/11610 [==============================] - 1s 48us/sample - loss: 0.3459 - val_loss: 0.3983\n",
      "Epoch 16/100\n",
      "11610/11610 [==============================] - 1s 46us/sample - loss: 0.3420 - val_loss: 0.4130\n",
      "Epoch 17/100\n",
      "11610/11610 [==============================] - 1s 45us/sample - loss: 0.3403 - val_loss: 0.4698\n",
      "Epoch 18/100\n",
      "11610/11610 [==============================] - 1s 45us/sample - loss: 0.3390 - val_loss: 0.4615\n"
     ]
    }
   ],
   "source": [
    "x_train_s_wide=x_train_s[:,:5]\n",
    "x_train_s_deep=x_train_s[:,2:]\n",
    "\n",
    "x_valid_s_wide=x_valid_s[:,:5]\n",
    "x_valid_s_deep=x_valid_s[:,2:]\n",
    "\n",
    "x_test_s_wide=x_test_s[:,:5]\n",
    "x_test_s_deep=x_test_s[:,2:]\n",
    "history=model.fit([x_train_s_wide,x_train_s_deep],y_train,epochs=100,callbacks=callbacks,\n",
    "                  validation_data=([x_valid_s_wide,x_valid_s_deep],y_valid))"
   ]
  },
  {
   "cell_type": "code",
   "execution_count": null,
   "metadata": {},
   "outputs": [],
   "source": [
    "type(history)"
   ]
  },
  {
   "cell_type": "code",
   "execution_count": null,
   "metadata": {},
   "outputs": [],
   "source": [
    "history.history"
   ]
  },
  {
   "cell_type": "code",
   "execution_count": 24,
   "metadata": {},
   "outputs": [
    {
     "data": {
      "image/png": "[encoded data removed]",
      "text/plain": [
       "<Figure size 576x360 with 1 Axes>"
      ]
     },
     "metadata": {
      "needs_background": "light"
     },
     "output_type": "display_data"
    }
   ],
   "source": [
    "def plot_learning_curves(history):\n",
    "    pd.DataFrame(history.history).plot(figsize=(8,5))\n",
    "    plt.grid(True)\n",
    "    plt.gca().set_ylim(0,1)\n",
    "    plt.show()\n",
    "    \n",
    "plot_learning_curves(history)"
   ]
  },
  {
   "cell_type": "code",
   "execution_count": 26,
   "metadata": {},
   "outputs": [
    {
     "name": "stdout",
     "output_type": "stream",
     "text": [
      "5160/5160 [==============================] - 0s 24us/sample - loss: 0.4646\n"
     ]
    },
    {
     "data": {
      "text/plain": [
       "0.4645948799543603"
      ]
     },
     "execution_count": 26,
     "metadata": {},
     "output_type": "execute_result"
    }
   ],
   "source": [
    "model.evaluate([x_test_s_wide,x_test_s_deep],y_test)"
   ]
  }
 ],
 "metadata": {
  "kernelspec": {
   "display_name": "Python 3",
   "language": "python",
   "name": "python3"
  },
  "language_info": {
   "codemirror_mode": {
    "name": "ipython",
    "version": 3
   },
   "file_extension": ".py",
   "mimetype": "text/x-python",
   "name": "python",
   "nbconvert_exporter": "python",
   "pygments_lexer": "ipython3",
   "version": "3.6.9"
  }
 },
 "nbformat": 4,
 "nbformat_minor": 4
}
